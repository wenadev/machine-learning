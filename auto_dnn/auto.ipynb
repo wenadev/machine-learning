{
  "nbformat": 4,
  "nbformat_minor": 5,
  "metadata": {
    "kernelspec": {
      "display_name": "Python 3 (ipykernel)",
      "language": "python",
      "name": "python3"
    },
    "language_info": {
      "codemirror_mode": {
        "name": "ipython",
        "version": 3
      },
      "file_extension": ".py",
      "mimetype": "text/x-python",
      "name": "python",
      "nbconvert_exporter": "python",
      "pygments_lexer": "ipython3",
      "version": "3.8.8"
    },
    "colab": {
      "name": "auto.ipynb",
      "provenance": [],
      "collapsed_sections": []
    },
    "accelerator": "GPU"
  },
  "cells": [
    {
      "cell_type": "code",
      "metadata": {
        "colab": {
          "base_uri": "https://localhost:8080/",
          "height": 415
        },
        "id": "e8e3441b",
        "outputId": "a06d863d-e6c4-48fc-9afa-4709dcc22ec2"
      },
      "source": [
        "import tensorflow as tf\n",
        "from tensorflow import keras\n",
        "import pandas as pd\n",
        "import matplotlib.pyplot as plt\n",
        "\n",
        "import IPython\n",
        "\n",
        "cols = ['MPG', 'Cylinders', 'Displacement', 'Horsepower', 'Weight',\n",
        "        'Acceleration', 'Model Year', 'Origin', 'Name']\n",
        "\n",
        "url = \"https://archive.ics.uci.edu/ml/machine-learning-databases/auto-mpg/auto-mpg.data\"\n",
        "auto = pd.read_csv(url, names=cols, na_values = \"?\", comment = '\\t', skipinitialspace=True, delim_whitespace=True)\n",
        "auto"
      ],
      "id": "e8e3441b",
      "execution_count": 1,
      "outputs": [
        {
          "output_type": "execute_result",
          "data": {
            "text/html": [
              "<div>\n",
              "<style scoped>\n",
              "    .dataframe tbody tr th:only-of-type {\n",
              "        vertical-align: middle;\n",
              "    }\n",
              "\n",
              "    .dataframe tbody tr th {\n",
              "        vertical-align: top;\n",
              "    }\n",
              "\n",
              "    .dataframe thead th {\n",
              "        text-align: right;\n",
              "    }\n",
              "</style>\n",
              "<table border=\"1\" class=\"dataframe\">\n",
              "  <thead>\n",
              "    <tr style=\"text-align: right;\">\n",
              "      <th></th>\n",
              "      <th>MPG</th>\n",
              "      <th>Cylinders</th>\n",
              "      <th>Displacement</th>\n",
              "      <th>Horsepower</th>\n",
              "      <th>Weight</th>\n",
              "      <th>Acceleration</th>\n",
              "      <th>Model Year</th>\n",
              "      <th>Origin</th>\n",
              "      <th>Name</th>\n",
              "    </tr>\n",
              "  </thead>\n",
              "  <tbody>\n",
              "    <tr>\n",
              "      <th>0</th>\n",
              "      <td>18.0</td>\n",
              "      <td>8</td>\n",
              "      <td>307.0</td>\n",
              "      <td>130.0</td>\n",
              "      <td>3504.0</td>\n",
              "      <td>12.0</td>\n",
              "      <td>70</td>\n",
              "      <td>1</td>\n",
              "      <td>chevrolet chevelle malibu</td>\n",
              "    </tr>\n",
              "    <tr>\n",
              "      <th>1</th>\n",
              "      <td>15.0</td>\n",
              "      <td>8</td>\n",
              "      <td>350.0</td>\n",
              "      <td>165.0</td>\n",
              "      <td>3693.0</td>\n",
              "      <td>11.5</td>\n",
              "      <td>70</td>\n",
              "      <td>1</td>\n",
              "      <td>buick skylark 320</td>\n",
              "    </tr>\n",
              "    <tr>\n",
              "      <th>2</th>\n",
              "      <td>18.0</td>\n",
              "      <td>8</td>\n",
              "      <td>318.0</td>\n",
              "      <td>150.0</td>\n",
              "      <td>3436.0</td>\n",
              "      <td>11.0</td>\n",
              "      <td>70</td>\n",
              "      <td>1</td>\n",
              "      <td>plymouth satellite</td>\n",
              "    </tr>\n",
              "    <tr>\n",
              "      <th>3</th>\n",
              "      <td>16.0</td>\n",
              "      <td>8</td>\n",
              "      <td>304.0</td>\n",
              "      <td>150.0</td>\n",
              "      <td>3433.0</td>\n",
              "      <td>12.0</td>\n",
              "      <td>70</td>\n",
              "      <td>1</td>\n",
              "      <td>amc rebel sst</td>\n",
              "    </tr>\n",
              "    <tr>\n",
              "      <th>4</th>\n",
              "      <td>17.0</td>\n",
              "      <td>8</td>\n",
              "      <td>302.0</td>\n",
              "      <td>140.0</td>\n",
              "      <td>3449.0</td>\n",
              "      <td>10.5</td>\n",
              "      <td>70</td>\n",
              "      <td>1</td>\n",
              "      <td>ford torino</td>\n",
              "    </tr>\n",
              "    <tr>\n",
              "      <th>...</th>\n",
              "      <td>...</td>\n",
              "      <td>...</td>\n",
              "      <td>...</td>\n",
              "      <td>...</td>\n",
              "      <td>...</td>\n",
              "      <td>...</td>\n",
              "      <td>...</td>\n",
              "      <td>...</td>\n",
              "      <td>...</td>\n",
              "    </tr>\n",
              "    <tr>\n",
              "      <th>393</th>\n",
              "      <td>27.0</td>\n",
              "      <td>4</td>\n",
              "      <td>140.0</td>\n",
              "      <td>86.0</td>\n",
              "      <td>2790.0</td>\n",
              "      <td>15.6</td>\n",
              "      <td>82</td>\n",
              "      <td>1</td>\n",
              "      <td>ford mustang gl</td>\n",
              "    </tr>\n",
              "    <tr>\n",
              "      <th>394</th>\n",
              "      <td>44.0</td>\n",
              "      <td>4</td>\n",
              "      <td>97.0</td>\n",
              "      <td>52.0</td>\n",
              "      <td>2130.0</td>\n",
              "      <td>24.6</td>\n",
              "      <td>82</td>\n",
              "      <td>2</td>\n",
              "      <td>vw pickup</td>\n",
              "    </tr>\n",
              "    <tr>\n",
              "      <th>395</th>\n",
              "      <td>32.0</td>\n",
              "      <td>4</td>\n",
              "      <td>135.0</td>\n",
              "      <td>84.0</td>\n",
              "      <td>2295.0</td>\n",
              "      <td>11.6</td>\n",
              "      <td>82</td>\n",
              "      <td>1</td>\n",
              "      <td>dodge rampage</td>\n",
              "    </tr>\n",
              "    <tr>\n",
              "      <th>396</th>\n",
              "      <td>28.0</td>\n",
              "      <td>4</td>\n",
              "      <td>120.0</td>\n",
              "      <td>79.0</td>\n",
              "      <td>2625.0</td>\n",
              "      <td>18.6</td>\n",
              "      <td>82</td>\n",
              "      <td>1</td>\n",
              "      <td>ford ranger</td>\n",
              "    </tr>\n",
              "    <tr>\n",
              "      <th>397</th>\n",
              "      <td>31.0</td>\n",
              "      <td>4</td>\n",
              "      <td>119.0</td>\n",
              "      <td>82.0</td>\n",
              "      <td>2720.0</td>\n",
              "      <td>19.4</td>\n",
              "      <td>82</td>\n",
              "      <td>1</td>\n",
              "      <td>chevy s-10</td>\n",
              "    </tr>\n",
              "  </tbody>\n",
              "</table>\n",
              "<p>398 rows × 9 columns</p>\n",
              "</div>"
            ],
            "text/plain": [
              "      MPG  Cylinders  ...  Origin                       Name\n",
              "0    18.0          8  ...       1  chevrolet chevelle malibu\n",
              "1    15.0          8  ...       1          buick skylark 320\n",
              "2    18.0          8  ...       1         plymouth satellite\n",
              "3    16.0          8  ...       1              amc rebel sst\n",
              "4    17.0          8  ...       1                ford torino\n",
              "..    ...        ...  ...     ...                        ...\n",
              "393  27.0          4  ...       1            ford mustang gl\n",
              "394  44.0          4  ...       2                  vw pickup\n",
              "395  32.0          4  ...       1              dodge rampage\n",
              "396  28.0          4  ...       1                ford ranger\n",
              "397  31.0          4  ...       1                 chevy s-10\n",
              "\n",
              "[398 rows x 9 columns]"
            ]
          },
          "metadata": {},
          "execution_count": 1
        }
      ]
    },
    {
      "cell_type": "markdown",
      "metadata": {
        "id": "PST5Jmp6hV2k"
      },
      "source": [
        "##### Exploratory Data Analysis"
      ],
      "id": "PST5Jmp6hV2k"
    },
    {
      "cell_type": "code",
      "metadata": {
        "colab": {
          "base_uri": "https://localhost:8080/",
          "height": 294
        },
        "id": "6afcf0ec",
        "outputId": "30325960-0adc-4f59-d380-6595dd64759a"
      },
      "source": [
        "auto.describe()"
      ],
      "id": "6afcf0ec",
      "execution_count": 2,
      "outputs": [
        {
          "output_type": "execute_result",
          "data": {
            "text/html": [
              "<div>\n",
              "<style scoped>\n",
              "    .dataframe tbody tr th:only-of-type {\n",
              "        vertical-align: middle;\n",
              "    }\n",
              "\n",
              "    .dataframe tbody tr th {\n",
              "        vertical-align: top;\n",
              "    }\n",
              "\n",
              "    .dataframe thead th {\n",
              "        text-align: right;\n",
              "    }\n",
              "</style>\n",
              "<table border=\"1\" class=\"dataframe\">\n",
              "  <thead>\n",
              "    <tr style=\"text-align: right;\">\n",
              "      <th></th>\n",
              "      <th>MPG</th>\n",
              "      <th>Cylinders</th>\n",
              "      <th>Displacement</th>\n",
              "      <th>Horsepower</th>\n",
              "      <th>Weight</th>\n",
              "      <th>Acceleration</th>\n",
              "      <th>Model Year</th>\n",
              "      <th>Origin</th>\n",
              "    </tr>\n",
              "  </thead>\n",
              "  <tbody>\n",
              "    <tr>\n",
              "      <th>count</th>\n",
              "      <td>398.000000</td>\n",
              "      <td>398.000000</td>\n",
              "      <td>398.000000</td>\n",
              "      <td>392.000000</td>\n",
              "      <td>398.000000</td>\n",
              "      <td>398.000000</td>\n",
              "      <td>398.000000</td>\n",
              "      <td>398.000000</td>\n",
              "    </tr>\n",
              "    <tr>\n",
              "      <th>mean</th>\n",
              "      <td>23.514573</td>\n",
              "      <td>5.454774</td>\n",
              "      <td>193.425879</td>\n",
              "      <td>104.469388</td>\n",
              "      <td>2970.424623</td>\n",
              "      <td>15.568090</td>\n",
              "      <td>76.010050</td>\n",
              "      <td>1.572864</td>\n",
              "    </tr>\n",
              "    <tr>\n",
              "      <th>std</th>\n",
              "      <td>7.815984</td>\n",
              "      <td>1.701004</td>\n",
              "      <td>104.269838</td>\n",
              "      <td>38.491160</td>\n",
              "      <td>846.841774</td>\n",
              "      <td>2.757689</td>\n",
              "      <td>3.697627</td>\n",
              "      <td>0.802055</td>\n",
              "    </tr>\n",
              "    <tr>\n",
              "      <th>min</th>\n",
              "      <td>9.000000</td>\n",
              "      <td>3.000000</td>\n",
              "      <td>68.000000</td>\n",
              "      <td>46.000000</td>\n",
              "      <td>1613.000000</td>\n",
              "      <td>8.000000</td>\n",
              "      <td>70.000000</td>\n",
              "      <td>1.000000</td>\n",
              "    </tr>\n",
              "    <tr>\n",
              "      <th>25%</th>\n",
              "      <td>17.500000</td>\n",
              "      <td>4.000000</td>\n",
              "      <td>104.250000</td>\n",
              "      <td>75.000000</td>\n",
              "      <td>2223.750000</td>\n",
              "      <td>13.825000</td>\n",
              "      <td>73.000000</td>\n",
              "      <td>1.000000</td>\n",
              "    </tr>\n",
              "    <tr>\n",
              "      <th>50%</th>\n",
              "      <td>23.000000</td>\n",
              "      <td>4.000000</td>\n",
              "      <td>148.500000</td>\n",
              "      <td>93.500000</td>\n",
              "      <td>2803.500000</td>\n",
              "      <td>15.500000</td>\n",
              "      <td>76.000000</td>\n",
              "      <td>1.000000</td>\n",
              "    </tr>\n",
              "    <tr>\n",
              "      <th>75%</th>\n",
              "      <td>29.000000</td>\n",
              "      <td>8.000000</td>\n",
              "      <td>262.000000</td>\n",
              "      <td>126.000000</td>\n",
              "      <td>3608.000000</td>\n",
              "      <td>17.175000</td>\n",
              "      <td>79.000000</td>\n",
              "      <td>2.000000</td>\n",
              "    </tr>\n",
              "    <tr>\n",
              "      <th>max</th>\n",
              "      <td>46.600000</td>\n",
              "      <td>8.000000</td>\n",
              "      <td>455.000000</td>\n",
              "      <td>230.000000</td>\n",
              "      <td>5140.000000</td>\n",
              "      <td>24.800000</td>\n",
              "      <td>82.000000</td>\n",
              "      <td>3.000000</td>\n",
              "    </tr>\n",
              "  </tbody>\n",
              "</table>\n",
              "</div>"
            ],
            "text/plain": [
              "              MPG   Cylinders  ...  Model Year      Origin\n",
              "count  398.000000  398.000000  ...  398.000000  398.000000\n",
              "mean    23.514573    5.454774  ...   76.010050    1.572864\n",
              "std      7.815984    1.701004  ...    3.697627    0.802055\n",
              "min      9.000000    3.000000  ...   70.000000    1.000000\n",
              "25%     17.500000    4.000000  ...   73.000000    1.000000\n",
              "50%     23.000000    4.000000  ...   76.000000    1.000000\n",
              "75%     29.000000    8.000000  ...   79.000000    2.000000\n",
              "max     46.600000    8.000000  ...   82.000000    3.000000\n",
              "\n",
              "[8 rows x 8 columns]"
            ]
          },
          "metadata": {},
          "execution_count": 2
        }
      ]
    },
    {
      "cell_type": "markdown",
      "metadata": {
        "id": "Zex_vBqjhRwU"
      },
      "source": [
        "##### Drop car name attribute"
      ],
      "id": "Zex_vBqjhRwU"
    },
    {
      "cell_type": "code",
      "metadata": {
        "id": "607867fc"
      },
      "source": [
        "auto = auto.drop(['Name'], axis=1)"
      ],
      "id": "607867fc",
      "execution_count": 3,
      "outputs": []
    },
    {
      "cell_type": "markdown",
      "metadata": {
        "id": "KWdVbmmSg0eR"
      },
      "source": [
        "##### Clean dataset and fix missing values"
      ],
      "id": "KWdVbmmSg0eR"
    },
    {
      "cell_type": "code",
      "metadata": {
        "id": "361359ae"
      },
      "source": [
        "auto.isnull().sum()\n",
        "condition= auto[auto[\"Horsepower\"].isnull()][[\"Cylinders\", \"Horsepower\"]] # selects cylinders where horsepower is null\n",
        "cylinder_number = condition.Cylinders.unique() #selects single values cylinder numbers\n",
        "\n",
        "ch= auto.groupby(\"Cylinders\")[\"Horsepower\"].mean().reset_index(name='Horsepower') #average of horsepower by respective cylinders\n",
        "ch_new = ch[ch[\"Cylinders\"].isin(cylinder_number)].round(2) #only selects average of cylinder_number indicated to be nan above\n",
        "avg_dict =dict(zip(ch_new['Cylinders'], ch_new['Horsepower'])) #assigning avg of cylinders of respective cylinders in a dict\n",
        "\n",
        "bool_mask = auto['Horsepower'].isna()\n",
        "auto.loc[bool_mask, 'Horsepower'] = auto.loc[bool_mask, 'Cylinders'].map(avg_dict) #fill in average of respective rows according to cylinder number"
      ],
      "id": "361359ae",
      "execution_count": 4,
      "outputs": []
    },
    {
      "cell_type": "code",
      "metadata": {
        "id": "5bed2139"
      },
      "source": [
        "X= auto.drop(['MPG'], axis=1)\n",
        "\n",
        "#assign MPG to the variable, y\n",
        "y = auto.iloc[:, 0:1]"
      ],
      "id": "5bed2139",
      "execution_count": 5,
      "outputs": []
    },
    {
      "cell_type": "markdown",
      "metadata": {
        "id": "98kQhT7HhM7x"
      },
      "source": [
        "##### Split data into train and test sets"
      ],
      "id": "98kQhT7HhM7x"
    },
    {
      "cell_type": "code",
      "metadata": {
        "id": "266f8598"
      },
      "source": [
        "from sklearn.model_selection import train_test_split\n",
        "X_train, X_test, y_train, y_test = train_test_split(X,y, test_size=0.5, random_state=42)"
      ],
      "id": "266f8598",
      "execution_count": 6,
      "outputs": []
    },
    {
      "cell_type": "markdown",
      "metadata": {
        "id": "e-yBtUh5hGao"
      },
      "source": [
        "##### Scale data"
      ],
      "id": "e-yBtUh5hGao"
    },
    {
      "cell_type": "code",
      "metadata": {
        "id": "f5a29afb"
      },
      "source": [
        "from sklearn.preprocessing import StandardScaler\n",
        "scaler2 = StandardScaler().fit(X_train)\n",
        "X_train = scaler2.transform(X_train)\n",
        "X_test = scaler2.transform(X_test)"
      ],
      "id": "f5a29afb",
      "execution_count": 7,
      "outputs": []
    },
    {
      "cell_type": "markdown",
      "metadata": {
        "id": "0674d26a"
      },
      "source": [
        "### Poor model"
      ],
      "id": "0674d26a"
    },
    {
      "cell_type": "code",
      "metadata": {
        "id": "4038b3dd"
      },
      "source": [
        "#create a fully connected neural network\n",
        "a_model = keras.models.Sequential([\n",
        "    keras.layers.Flatten(input_shape=[7]),\n",
        "    keras.layers.Dense(54, activation=\"relu\"),\n",
        "    keras.layers.Dense(54, activation=\"relu\"),\n",
        "    keras.layers.Dense(1)])"
      ],
      "id": "4038b3dd",
      "execution_count": 8,
      "outputs": []
    },
    {
      "cell_type": "markdown",
      "metadata": {
        "id": "wxuAfSdYhnB_"
      },
      "source": [
        "##### Overview of model"
      ],
      "id": "wxuAfSdYhnB_"
    },
    {
      "cell_type": "code",
      "metadata": {
        "colab": {
          "base_uri": "https://localhost:8080/"
        },
        "id": "ttG-DKnBn2sn",
        "outputId": "050e1470-2efc-416d-9975-fb5d34d1f45d"
      },
      "source": [
        "a_model.summary()"
      ],
      "id": "ttG-DKnBn2sn",
      "execution_count": 9,
      "outputs": [
        {
          "output_type": "stream",
          "name": "stdout",
          "text": [
            "Model: \"sequential\"\n",
            "_________________________________________________________________\n",
            "Layer (type)                 Output Shape              Param #   \n",
            "=================================================================\n",
            "flatten (Flatten)            (None, 7)                 0         \n",
            "_________________________________________________________________\n",
            "dense (Dense)                (None, 54)                432       \n",
            "_________________________________________________________________\n",
            "dense_1 (Dense)              (None, 54)                2970      \n",
            "_________________________________________________________________\n",
            "dense_2 (Dense)              (None, 1)                 55        \n",
            "=================================================================\n",
            "Total params: 3,457\n",
            "Trainable params: 3,457\n",
            "Non-trainable params: 0\n",
            "_________________________________________________________________\n"
          ]
        }
      ]
    },
    {
      "cell_type": "code",
      "metadata": {
        "colab": {
          "base_uri": "https://localhost:8080/",
          "height": 121
        },
        "id": "131b1e80",
        "outputId": "443d8b53-a9b1-4fca-e9b6-07d3def5b5f0"
      },
      "source": [
        "keras.utils.plot_model(a_model, \"fd.png\", show_shapes=True, rankdir='LR')"
      ],
      "id": "131b1e80",
      "execution_count": 10,
      "outputs": [
        {
          "output_type": "execute_result",
          "data": {
            "image/png": "[encoded data removed]",
            "text/plain": [
              "<IPython.core.display.Image object>"
            ]
          },
          "metadata": {},
          "execution_count": 10
        }
      ]
    },
    {
      "cell_type": "markdown",
      "metadata": {
        "id": "coJzxuSIhqjN"
      },
      "source": [
        "##### Establish loss, optimizer and metrics"
      ],
      "id": "coJzxuSIhqjN"
    },
    {
      "cell_type": "code",
      "metadata": {
        "id": "2011bb7e"
      },
      "source": [
        "#establish loss, optimizer and metrics\n",
        "opt = tf.keras.optimizers.SGD(learning_rate= 0.09, momentum=0.1)\n",
        "\n",
        "a_model.compile(loss=\"mean_absolute_error\",\n",
        "                optimizer=opt,\n",
        "                metrics=['mape'])"
      ],
      "id": "2011bb7e",
      "execution_count": 47,
      "outputs": []
    },
    {
      "cell_type": "code",
      "metadata": {
        "id": "1af79889"
      },
      "source": [
        "history = a_model.fit(\n",
        "    X_train, y_train, \n",
        "    validation_data=(X_test, y_test), \n",
        "    verbose=0, epochs=100)\n",
        "\n",
        "#make prediction\n",
        "poor_result = a_model.predict(X_test)"
      ],
      "id": "1af79889",
      "execution_count": 48,
      "outputs": []
    },
    {
      "cell_type": "markdown",
      "metadata": {
        "id": "3daFyvicke90"
      },
      "source": [
        "##### Evaluate model"
      ],
      "id": "3daFyvicke90"
    },
    {
      "cell_type": "code",
      "metadata": {
        "colab": {
          "base_uri": "https://localhost:8080/"
        },
        "id": "12a81d82",
        "outputId": "6ea44d4a-0f40-48c9-c91b-67498d0cc950"
      },
      "source": [
        "train_loss, train_mse = a_model.evaluate(X_train, y_train, verbose=0)\n",
        "test_loss, test_mse = a_model.evaluate(X_test, y_test, verbose=0)\n",
        "\n",
        "train_mse, test_mse"
      ],
      "id": "12a81d82",
      "execution_count": 49,
      "outputs": [
        {
          "output_type": "execute_result",
          "data": {
            "text/plain": [
              "(8.61746597290039, 10.622640609741211)"
            ]
          },
          "metadata": {},
          "execution_count": 49
        }
      ]
    },
    {
      "cell_type": "markdown",
      "metadata": {
        "id": "f4yegLE-if5t"
      },
      "source": [
        "##### Visualize model metrics"
      ],
      "id": "f4yegLE-if5t"
    },
    {
      "cell_type": "code",
      "metadata": {
        "colab": {
          "base_uri": "https://localhost:8080/",
          "height": 295
        },
        "id": "d6313ad6",
        "outputId": "e034f756-eb9e-4261-d447-7b04adeb4306"
      },
      "source": [
        "plt.plot(figsize=(30, 20))\n",
        "\n",
        "plt.plot(history.history['loss'], label='loss')\n",
        "plt.plot(history.history['val_loss'], label='val_loss')\n",
        "plt.plot(history.history['mape'], label='mean_absolute_percentage' )\n",
        "plt.plot(history.history['val_mape'], label='val_mean_absolute_percentage')\n",
        "\n",
        "plt.legend()\n",
        "plt.ylim([0, 25])\n",
        "plt.xlabel('Epoch')\n",
        "plt.ylabel('MPG Error')\n",
        "plt.title(\"Overfit Model\")\n",
        "plt.grid(True)\n",
        "plt.show()"
      ],
      "id": "d6313ad6",
      "execution_count": 50,
      "outputs": [
        {
          "output_type": "display_data",
          "data": {
            "image/png": "[encoded data removed]",
            "text/plain": [
              "<Figure size 432x288 with 1 Axes>"
            ]
          },
          "metadata": {
            "needs_background": "light"
          }
        }
      ]
    },
    {
      "cell_type": "markdown",
      "metadata": {
        "id": "cd87216c"
      },
      "source": [
        "## Better model"
      ],
      "id": "cd87216c"
    },
    {
      "cell_type": "code",
      "metadata": {
        "id": "e8eaf061"
      },
      "source": [
        "b_model = keras.models.Sequential([\n",
        "    keras.layers.Flatten(input_shape=[7]),\n",
        "    keras.layers.Dense(54, activation=\"relu\"),\n",
        "    keras.layers.Dense(54, activation=\"relu\"),\n",
        "    keras.layers.Dense(1)])"
      ],
      "id": "e8eaf061",
      "execution_count": 15,
      "outputs": []
    },
    {
      "cell_type": "markdown",
      "metadata": {
        "id": "nBRA3w_RmJbT"
      },
      "source": [
        "##### Model overview"
      ],
      "id": "nBRA3w_RmJbT"
    },
    {
      "cell_type": "code",
      "metadata": {
        "colab": {
          "base_uri": "https://localhost:8080/"
        },
        "id": "DHIR_ub2mW--",
        "outputId": "bb6aeb18-ccbf-470a-b0d7-e5a84020c283"
      },
      "source": [
        "b_model.summary()"
      ],
      "id": "DHIR_ub2mW--",
      "execution_count": 16,
      "outputs": [
        {
          "output_type": "stream",
          "name": "stdout",
          "text": [
            "Model: \"sequential_1\"\n",
            "_________________________________________________________________\n",
            "Layer (type)                 Output Shape              Param #   \n",
            "=================================================================\n",
            "flatten_1 (Flatten)          (None, 7)                 0         \n",
            "_________________________________________________________________\n",
            "dense_3 (Dense)              (None, 54)                432       \n",
            "_________________________________________________________________\n",
            "dense_4 (Dense)              (None, 54)                2970      \n",
            "_________________________________________________________________\n",
            "dense_5 (Dense)              (None, 1)                 55        \n",
            "=================================================================\n",
            "Total params: 3,457\n",
            "Trainable params: 3,457\n",
            "Non-trainable params: 0\n",
            "_________________________________________________________________\n"
          ]
        }
      ]
    },
    {
      "cell_type": "code",
      "metadata": {
        "id": "b0d9fb1a",
        "colab": {
          "base_uri": "https://localhost:8080/",
          "height": 121
        },
        "outputId": "23e103d8-8406-408e-94da-ea3190f49e28"
      },
      "source": [
        "keras.utils.plot_model(b_model, \"fe.png\", show_shapes=True, rankdir='LR')"
      ],
      "id": "b0d9fb1a",
      "execution_count": 17,
      "outputs": [
        {
          "output_type": "execute_result",
          "data": {
            "image/png": "[encoded data removed]",
            "text/plain": [
              "<IPython.core.display.Image object>"
            ]
          },
          "metadata": {},
          "execution_count": 17
        }
      ]
    },
    {
      "cell_type": "markdown",
      "metadata": {
        "id": "dLdvRvaammf_"
      },
      "source": [
        "##### Establish loss, optimizer and metrics"
      ],
      "id": "dLdvRvaammf_"
    },
    {
      "cell_type": "code",
      "metadata": {
        "id": "cfd3aba8"
      },
      "source": [
        "b_model.compile(loss=\"mean_absolute_error\",\n",
        "                optimizer=tf.keras.optimizers.Adam(0.001),\n",
        "                metrics=['mape'])"
      ],
      "id": "cfd3aba8",
      "execution_count": 18,
      "outputs": []
    },
    {
      "cell_type": "markdown",
      "metadata": {
        "id": "FYcfZdeLmq_r"
      },
      "source": [
        "Fit model"
      ],
      "id": "FYcfZdeLmq_r"
    },
    {
      "cell_type": "code",
      "metadata": {
        "id": "fd517f43",
        "colab": {
          "base_uri": "https://localhost:8080/"
        },
        "outputId": "4707694c-65de-43f4-f4f9-381902d60dbe"
      },
      "source": [
        "b_history = b_model.fit(\n",
        "    X_train, y_train, \n",
        "    validation_data=(X_test, y_test), \n",
        "    verbose=1, epochs=100)"
      ],
      "id": "fd517f43",
      "execution_count": 19,
      "outputs": [
        {
          "output_type": "stream",
          "name": "stdout",
          "text": [
            "Epoch 1/100\n",
            "7/7 [==============================] - 1s 33ms/step - loss: 23.5265 - mape: 99.3192 - val_loss: 23.1199 - val_mape: 97.9012\n",
            "Epoch 2/100\n",
            "7/7 [==============================] - 0s 11ms/step - loss: 23.0945 - mape: 97.1708 - val_loss: 22.6668 - val_mape: 95.7137\n",
            "Epoch 3/100\n",
            "7/7 [==============================] - 0s 10ms/step - loss: 22.6429 - mape: 94.9917 - val_loss: 22.1642 - val_mape: 93.3231\n",
            "Epoch 4/100\n",
            "7/7 [==============================] - 0s 10ms/step - loss: 22.1188 - mape: 92.5178 - val_loss: 21.5543 - val_mape: 90.4405\n",
            "Epoch 5/100\n",
            "7/7 [==============================] - 0s 10ms/step - loss: 21.4831 - mape: 89.4948 - val_loss: 20.8043 - val_mape: 86.8806\n",
            "Epoch 6/100\n",
            "7/7 [==============================] - 0s 9ms/step - loss: 20.6997 - mape: 85.7303 - val_loss: 19.8766 - val_mape: 82.4621\n",
            "Epoch 7/100\n",
            "7/7 [==============================] - 0s 9ms/step - loss: 19.7307 - mape: 81.0777 - val_loss: 18.7200 - val_mape: 76.8826\n",
            "Epoch 8/100\n",
            "7/7 [==============================] - 0s 10ms/step - loss: 18.5236 - mape: 75.1913 - val_loss: 17.3246 - val_mape: 70.1548\n",
            "Epoch 9/100\n",
            "7/7 [==============================] - 0s 10ms/step - loss: 17.1238 - mape: 68.5081 - val_loss: 15.7823 - val_mape: 63.2417\n",
            "Epoch 10/100\n",
            "7/7 [==============================] - 0s 9ms/step - loss: 15.5707 - mape: 61.8861 - val_loss: 14.2729 - val_mape: 57.4448\n",
            "Epoch 11/100\n",
            "7/7 [==============================] - 0s 9ms/step - loss: 13.9795 - mape: 55.4514 - val_loss: 12.6695 - val_mape: 51.9758\n",
            "Epoch 12/100\n",
            "7/7 [==============================] - 0s 9ms/step - loss: 12.3199 - mape: 49.7585 - val_loss: 10.8898 - val_mape: 46.0768\n",
            "Epoch 13/100\n",
            "7/7 [==============================] - 0s 10ms/step - loss: 10.4922 - mape: 43.4069 - val_loss: 8.8507 - val_mape: 39.0937\n",
            "Epoch 14/100\n",
            "7/7 [==============================] - 0s 10ms/step - loss: 8.4186 - mape: 36.2371 - val_loss: 6.8747 - val_mape: 32.2451\n",
            "Epoch 15/100\n",
            "7/7 [==============================] - 0s 10ms/step - loss: 6.5124 - mape: 29.5610 - val_loss: 6.0665 - val_mape: 29.1807\n",
            "Epoch 16/100\n",
            "7/7 [==============================] - 0s 11ms/step - loss: 5.6367 - mape: 26.1775 - val_loss: 6.1593 - val_mape: 28.9799\n",
            "Epoch 17/100\n",
            "7/7 [==============================] - 0s 9ms/step - loss: 5.2810 - mape: 24.4828 - val_loss: 5.9703 - val_mape: 27.6768\n",
            "Epoch 18/100\n",
            "7/7 [==============================] - 0s 10ms/step - loss: 5.0007 - mape: 23.0502 - val_loss: 5.5948 - val_mape: 25.9227\n",
            "Epoch 19/100\n",
            "7/7 [==============================] - 0s 11ms/step - loss: 4.6770 - mape: 21.5970 - val_loss: 4.9647 - val_mape: 23.4277\n",
            "Epoch 20/100\n",
            "7/7 [==============================] - 0s 9ms/step - loss: 4.3012 - mape: 20.0051 - val_loss: 4.4927 - val_mape: 21.4509\n",
            "Epoch 21/100\n",
            "7/7 [==============================] - 0s 11ms/step - loss: 4.0680 - mape: 18.8591 - val_loss: 4.2081 - val_mape: 20.3536\n",
            "Epoch 22/100\n",
            "7/7 [==============================] - 0s 8ms/step - loss: 3.8797 - mape: 18.0129 - val_loss: 4.0139 - val_mape: 19.5347\n",
            "Epoch 23/100\n",
            "7/7 [==============================] - 0s 10ms/step - loss: 3.6710 - mape: 17.1320 - val_loss: 3.9962 - val_mape: 19.1452\n",
            "Epoch 24/100\n",
            "7/7 [==============================] - 0s 10ms/step - loss: 3.5738 - mape: 16.5939 - val_loss: 3.9829 - val_mape: 18.7049\n",
            "Epoch 25/100\n",
            "7/7 [==============================] - 0s 10ms/step - loss: 3.4502 - mape: 15.8453 - val_loss: 3.6667 - val_mape: 17.3508\n",
            "Epoch 26/100\n",
            "7/7 [==============================] - 0s 11ms/step - loss: 3.3174 - mape: 15.1465 - val_loss: 3.4700 - val_mape: 16.5014\n",
            "Epoch 27/100\n",
            "7/7 [==============================] - 0s 9ms/step - loss: 3.2687 - mape: 14.8108 - val_loss: 3.3751 - val_mape: 15.9186\n",
            "Epoch 28/100\n",
            "7/7 [==============================] - 0s 9ms/step - loss: 3.1533 - mape: 14.2531 - val_loss: 3.3286 - val_mape: 15.7025\n",
            "Epoch 29/100\n",
            "7/7 [==============================] - 0s 10ms/step - loss: 3.0902 - mape: 14.0348 - val_loss: 3.2258 - val_mape: 15.2705\n",
            "Epoch 30/100\n",
            "7/7 [==============================] - 0s 9ms/step - loss: 3.0138 - mape: 13.5813 - val_loss: 3.1252 - val_mape: 14.6426\n",
            "Epoch 31/100\n",
            "7/7 [==============================] - 0s 9ms/step - loss: 2.9547 - mape: 13.2513 - val_loss: 3.1072 - val_mape: 14.4990\n",
            "Epoch 32/100\n",
            "7/7 [==============================] - 0s 9ms/step - loss: 2.9347 - mape: 13.2444 - val_loss: 3.0648 - val_mape: 14.4020\n",
            "Epoch 33/100\n",
            "7/7 [==============================] - 0s 10ms/step - loss: 2.8731 - mape: 12.9606 - val_loss: 2.9182 - val_mape: 13.6949\n",
            "Epoch 34/100\n",
            "7/7 [==============================] - 0s 10ms/step - loss: 2.8397 - mape: 12.6221 - val_loss: 2.8278 - val_mape: 13.1983\n",
            "Epoch 35/100\n",
            "7/7 [==============================] - 0s 9ms/step - loss: 2.8152 - mape: 12.4156 - val_loss: 2.7771 - val_mape: 12.9194\n",
            "Epoch 36/100\n",
            "7/7 [==============================] - 0s 10ms/step - loss: 2.7458 - mape: 12.1248 - val_loss: 2.7585 - val_mape: 12.7708\n",
            "Epoch 37/100\n",
            "7/7 [==============================] - 0s 9ms/step - loss: 2.7142 - mape: 11.9791 - val_loss: 2.7643 - val_mape: 12.6907\n",
            "Epoch 38/100\n",
            "7/7 [==============================] - 0s 9ms/step - loss: 2.6818 - mape: 11.7780 - val_loss: 2.6766 - val_mape: 12.2652\n",
            "Epoch 39/100\n",
            "7/7 [==============================] - 0s 11ms/step - loss: 2.6475 - mape: 11.5144 - val_loss: 2.5932 - val_mape: 11.9342\n",
            "Epoch 40/100\n",
            "7/7 [==============================] - 0s 10ms/step - loss: 2.6330 - mape: 11.4917 - val_loss: 2.5570 - val_mape: 11.8345\n",
            "Epoch 41/100\n",
            "7/7 [==============================] - 0s 10ms/step - loss: 2.5852 - mape: 11.2952 - val_loss: 2.5575 - val_mape: 11.6942\n",
            "Epoch 42/100\n",
            "7/7 [==============================] - 0s 8ms/step - loss: 2.6059 - mape: 11.2672 - val_loss: 2.6140 - val_mape: 11.8219\n",
            "Epoch 43/100\n",
            "7/7 [==============================] - 0s 10ms/step - loss: 2.5460 - mape: 11.0029 - val_loss: 2.4884 - val_mape: 11.4034\n",
            "Epoch 44/100\n",
            "7/7 [==============================] - 0s 10ms/step - loss: 2.5250 - mape: 11.0153 - val_loss: 2.4462 - val_mape: 11.2065\n",
            "Epoch 45/100\n",
            "7/7 [==============================] - 0s 8ms/step - loss: 2.4945 - mape: 10.7406 - val_loss: 2.4173 - val_mape: 10.9685\n",
            "Epoch 46/100\n",
            "7/7 [==============================] - 0s 10ms/step - loss: 2.4793 - mape: 10.6069 - val_loss: 2.4027 - val_mape: 10.9302\n",
            "Epoch 47/100\n",
            "7/7 [==============================] - 0s 9ms/step - loss: 2.4587 - mape: 10.5849 - val_loss: 2.4287 - val_mape: 11.0053\n",
            "Epoch 48/100\n",
            "7/7 [==============================] - 0s 9ms/step - loss: 2.4372 - mape: 10.4302 - val_loss: 2.3516 - val_mape: 10.6699\n",
            "Epoch 49/100\n",
            "7/7 [==============================] - 0s 8ms/step - loss: 2.4063 - mape: 10.2538 - val_loss: 2.3507 - val_mape: 10.6404\n",
            "Epoch 50/100\n",
            "7/7 [==============================] - 0s 8ms/step - loss: 2.3943 - mape: 10.2037 - val_loss: 2.3690 - val_mape: 10.7145\n",
            "Epoch 51/100\n",
            "7/7 [==============================] - 0s 11ms/step - loss: 2.3872 - mape: 10.2436 - val_loss: 2.3294 - val_mape: 10.5638\n",
            "Epoch 52/100\n",
            "7/7 [==============================] - 0s 10ms/step - loss: 2.3663 - mape: 10.0682 - val_loss: 2.2947 - val_mape: 10.3530\n",
            "Epoch 53/100\n",
            "7/7 [==============================] - 0s 9ms/step - loss: 2.3536 - mape: 9.9608 - val_loss: 2.2787 - val_mape: 10.3129\n",
            "Epoch 54/100\n",
            "7/7 [==============================] - 0s 10ms/step - loss: 2.3322 - mape: 9.8935 - val_loss: 2.2500 - val_mape: 10.2433\n",
            "Epoch 55/100\n",
            "7/7 [==============================] - 0s 8ms/step - loss: 2.3331 - mape: 9.9657 - val_loss: 2.2354 - val_mape: 10.1483\n",
            "Epoch 56/100\n",
            "7/7 [==============================] - 0s 8ms/step - loss: 2.3088 - mape: 9.7456 - val_loss: 2.2597 - val_mape: 10.1799\n",
            "Epoch 57/100\n",
            "7/7 [==============================] - 0s 11ms/step - loss: 2.3495 - mape: 9.9450 - val_loss: 2.2678 - val_mape: 10.2099\n",
            "Epoch 58/100\n",
            "7/7 [==============================] - 0s 9ms/step - loss: 2.2965 - mape: 9.7765 - val_loss: 2.1892 - val_mape: 9.9655\n",
            "Epoch 59/100\n",
            "7/7 [==============================] - 0s 12ms/step - loss: 2.2979 - mape: 9.7242 - val_loss: 2.1449 - val_mape: 9.7278\n",
            "Epoch 60/100\n",
            "7/7 [==============================] - 0s 10ms/step - loss: 2.2669 - mape: 9.4376 - val_loss: 2.1754 - val_mape: 9.8031\n",
            "Epoch 61/100\n",
            "7/7 [==============================] - 0s 10ms/step - loss: 2.2615 - mape: 9.5267 - val_loss: 2.2288 - val_mape: 10.0191\n",
            "Epoch 62/100\n",
            "7/7 [==============================] - 0s 9ms/step - loss: 2.2904 - mape: 9.7590 - val_loss: 2.1569 - val_mape: 9.8172\n",
            "Epoch 63/100\n",
            "7/7 [==============================] - 0s 9ms/step - loss: 2.2427 - mape: 9.4356 - val_loss: 2.1483 - val_mape: 9.6903\n",
            "Epoch 64/100\n",
            "7/7 [==============================] - 0s 8ms/step - loss: 2.2335 - mape: 9.3328 - val_loss: 2.1460 - val_mape: 9.6837\n",
            "Epoch 65/100\n",
            "7/7 [==============================] - 0s 12ms/step - loss: 2.2278 - mape: 9.3386 - val_loss: 2.1107 - val_mape: 9.5918\n",
            "Epoch 66/100\n",
            "7/7 [==============================] - 0s 9ms/step - loss: 2.2162 - mape: 9.2870 - val_loss: 2.1939 - val_mape: 9.8811\n",
            "Epoch 67/100\n",
            "7/7 [==============================] - 0s 11ms/step - loss: 2.2229 - mape: 9.3029 - val_loss: 2.1076 - val_mape: 9.5640\n",
            "Epoch 68/100\n",
            "7/7 [==============================] - 0s 11ms/step - loss: 2.2050 - mape: 9.2844 - val_loss: 2.0626 - val_mape: 9.4100\n",
            "Epoch 69/100\n",
            "7/7 [==============================] - 0s 10ms/step - loss: 2.1967 - mape: 9.1569 - val_loss: 2.0929 - val_mape: 9.4714\n",
            "Epoch 70/100\n",
            "7/7 [==============================] - 0s 11ms/step - loss: 2.2091 - mape: 9.2446 - val_loss: 2.1194 - val_mape: 9.5540\n",
            "Epoch 71/100\n",
            "7/7 [==============================] - 0s 10ms/step - loss: 2.1868 - mape: 9.1139 - val_loss: 2.0700 - val_mape: 9.3592\n",
            "Epoch 72/100\n",
            "7/7 [==============================] - 0s 10ms/step - loss: 2.1626 - mape: 9.0249 - val_loss: 2.0522 - val_mape: 9.3195\n",
            "Epoch 73/100\n",
            "7/7 [==============================] - 0s 9ms/step - loss: 2.1698 - mape: 9.0847 - val_loss: 2.0286 - val_mape: 9.1989\n",
            "Epoch 74/100\n",
            "7/7 [==============================] - 0s 10ms/step - loss: 2.1469 - mape: 8.9392 - val_loss: 2.0642 - val_mape: 9.3073\n",
            "Epoch 75/100\n",
            "7/7 [==============================] - 0s 9ms/step - loss: 2.1472 - mape: 8.9185 - val_loss: 2.0322 - val_mape: 9.1922\n",
            "Epoch 76/100\n",
            "7/7 [==============================] - 0s 9ms/step - loss: 2.1327 - mape: 8.8407 - val_loss: 2.0113 - val_mape: 9.1269\n",
            "Epoch 77/100\n",
            "7/7 [==============================] - 0s 9ms/step - loss: 2.1437 - mape: 8.8229 - val_loss: 2.0136 - val_mape: 9.1271\n",
            "Epoch 78/100\n",
            "7/7 [==============================] - 0s 10ms/step - loss: 2.1310 - mape: 8.8168 - val_loss: 2.0545 - val_mape: 9.2829\n",
            "Epoch 79/100\n",
            "7/7 [==============================] - 0s 9ms/step - loss: 2.1282 - mape: 8.8833 - val_loss: 2.0251 - val_mape: 9.1476\n",
            "Epoch 80/100\n",
            "7/7 [==============================] - 0s 10ms/step - loss: 2.1155 - mape: 8.7510 - val_loss: 2.0018 - val_mape: 9.0378\n",
            "Epoch 81/100\n",
            "7/7 [==============================] - 0s 10ms/step - loss: 2.1212 - mape: 8.7472 - val_loss: 2.0000 - val_mape: 9.0355\n",
            "Epoch 82/100\n",
            "7/7 [==============================] - 0s 9ms/step - loss: 2.1043 - mape: 8.6903 - val_loss: 2.0179 - val_mape: 9.1141\n",
            "Epoch 83/100\n",
            "7/7 [==============================] - 0s 9ms/step - loss: 2.0898 - mape: 8.6474 - val_loss: 2.0171 - val_mape: 9.1343\n",
            "Epoch 84/100\n",
            "7/7 [==============================] - 0s 10ms/step - loss: 2.1041 - mape: 8.7649 - val_loss: 2.0361 - val_mape: 9.1757\n",
            "Epoch 85/100\n",
            "7/7 [==============================] - 0s 10ms/step - loss: 2.0968 - mape: 8.6675 - val_loss: 2.0086 - val_mape: 9.0727\n",
            "Epoch 86/100\n",
            "7/7 [==============================] - 0s 10ms/step - loss: 2.0820 - mape: 8.5687 - val_loss: 1.9753 - val_mape: 8.9512\n",
            "Epoch 87/100\n",
            "7/7 [==============================] - 0s 12ms/step - loss: 2.0912 - mape: 8.6890 - val_loss: 1.9864 - val_mape: 8.9511\n",
            "Epoch 88/100\n",
            "7/7 [==============================] - 0s 10ms/step - loss: 2.0864 - mape: 8.6362 - val_loss: 1.9769 - val_mape: 8.9149\n",
            "Epoch 89/100\n",
            "7/7 [==============================] - 0s 10ms/step - loss: 2.0760 - mape: 8.5540 - val_loss: 1.9787 - val_mape: 8.9188\n",
            "Epoch 90/100\n",
            "7/7 [==============================] - 0s 9ms/step - loss: 2.0686 - mape: 8.5255 - val_loss: 1.9831 - val_mape: 8.9539\n",
            "Epoch 91/100\n",
            "7/7 [==============================] - 0s 10ms/step - loss: 2.0607 - mape: 8.4617 - val_loss: 1.9829 - val_mape: 8.9388\n",
            "Epoch 92/100\n",
            "7/7 [==============================] - 0s 11ms/step - loss: 2.0546 - mape: 8.4294 - val_loss: 1.9920 - val_mape: 8.9756\n",
            "Epoch 93/100\n",
            "7/7 [==============================] - 0s 9ms/step - loss: 2.0681 - mape: 8.4783 - val_loss: 1.9905 - val_mape: 8.9701\n",
            "Epoch 94/100\n",
            "7/7 [==============================] - 0s 10ms/step - loss: 2.0853 - mape: 8.6290 - val_loss: 1.9734 - val_mape: 8.9212\n",
            "Epoch 95/100\n",
            "7/7 [==============================] - 0s 10ms/step - loss: 2.0245 - mape: 8.3138 - val_loss: 1.9461 - val_mape: 8.7667\n",
            "Epoch 96/100\n",
            "7/7 [==============================] - 0s 9ms/step - loss: 2.0670 - mape: 8.3433 - val_loss: 1.9107 - val_mape: 8.6109\n",
            "Epoch 97/100\n",
            "7/7 [==============================] - 0s 9ms/step - loss: 2.0312 - mape: 8.2827 - val_loss: 1.9326 - val_mape: 8.6872\n",
            "Epoch 98/100\n",
            "7/7 [==============================] - 0s 11ms/step - loss: 2.0479 - mape: 8.4542 - val_loss: 1.9439 - val_mape: 8.7337\n",
            "Epoch 99/100\n",
            "7/7 [==============================] - 0s 12ms/step - loss: 2.0163 - mape: 8.3044 - val_loss: 1.8956 - val_mape: 8.5496\n",
            "Epoch 100/100\n",
            "7/7 [==============================] - 0s 11ms/step - loss: 2.0315 - mape: 8.2358 - val_loss: 1.9208 - val_mape: 8.6505\n"
          ]
        }
      ]
    },
    {
      "cell_type": "markdown",
      "metadata": {
        "id": "lKYGWueem3NW"
      },
      "source": [
        "Make a prediction"
      ],
      "id": "lKYGWueem3NW"
    },
    {
      "cell_type": "code",
      "metadata": {
        "id": "biXkTDTNm8hm"
      },
      "source": [
        "better_result = b_model.predict(X_test)"
      ],
      "id": "biXkTDTNm8hm",
      "execution_count": 20,
      "outputs": []
    },
    {
      "cell_type": "markdown",
      "metadata": {
        "id": "Ap60uA5Sm_1x"
      },
      "source": [
        "Evaluate model"
      ],
      "id": "Ap60uA5Sm_1x"
    },
    {
      "cell_type": "code",
      "metadata": {
        "id": "6ee04a4d",
        "colab": {
          "base_uri": "https://localhost:8080/"
        },
        "outputId": "504bd766-0a21-426b-ba5f-a78ed106fd40"
      },
      "source": [
        "train_loss, train_mape = b_model.evaluate(X_train, y_train, verbose=0)\n",
        "test_loss, test_mape = b_model.evaluate(X_test, y_test, verbose=0)\n",
        "test_loss, test_loss"
      ],
      "id": "6ee04a4d",
      "execution_count": 21,
      "outputs": [
        {
          "output_type": "execute_result",
          "data": {
            "text/plain": [
              "(1.920820713043213, 1.920820713043213)"
            ]
          },
          "metadata": {},
          "execution_count": 21
        }
      ]
    },
    {
      "cell_type": "markdown",
      "metadata": {
        "id": "DSxx12S9ndGJ"
      },
      "source": [
        "Visualize model metrics"
      ],
      "id": "DSxx12S9ndGJ"
    },
    {
      "cell_type": "code",
      "metadata": {
        "colab": {
          "base_uri": "https://localhost:8080/",
          "height": 295
        },
        "id": "cgacX0IQk7eu",
        "outputId": "ec9554a6-e5ec-4dd6-8013-21a77e4a597c"
      },
      "source": [
        "plt.plot(figsize=(30, 20))\n",
        "plt.plot(b_history.history['loss'], label='loss')\n",
        "plt.plot(b_history.history['val_loss'], label='val_loss')\n",
        "plt.plot(b_history.history['mape'], label='mean_absolute_percentage' )\n",
        "plt.plot(b_history.history['val_mape'], label='val_mean_absolute_percentage')\n",
        "\n",
        "plt.legend()\n",
        "\n",
        "plt.ylim([0, 20])\n",
        "plt.title(\"Better model\")\n",
        "plt.xlabel('Epoch')\n",
        "plt.ylabel('MPG Error')\n",
        "plt.grid(True)\n",
        "plt.show()"
      ],
      "id": "cgacX0IQk7eu",
      "execution_count": 24,
      "outputs": [
        {
          "output_type": "display_data",
          "data": {
            "image/png": "[encoded data removed]",
            "text/plain": [
              "<Figure size 432x288 with 1 Axes>"
            ]
          },
          "metadata": {
            "needs_background": "light"
          }
        }
      ]
    }
  ]
}