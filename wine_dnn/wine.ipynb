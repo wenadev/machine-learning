{
  "nbformat": 4,
  "nbformat_minor": 5,
  "metadata": {
    "kernelspec": {
      "display_name": "Python 3 (ipykernel)",
      "language": "python",
      "name": "python3"
    },
    "language_info": {
      "codemirror_mode": {
        "name": "ipython",
        "version": 3
      },
      "file_extension": ".py",
      "mimetype": "text/x-python",
      "name": "python",
      "nbconvert_exporter": "python",
      "pygments_lexer": "ipython3",
      "version": "3.8.8"
    },
    "colab": {
      "name": "wine.ipynb",
      "provenance": [],
      "collapsed_sections": []
    },
    "accelerator": "GPU"
  },
  "cells": [
    {
      "cell_type": "code",
      "metadata": {
        "id": "_jCkQpLC8SiV"
      },
      "source": [
        "import pandas as pd\n",
        "import tensorflow as tf\n",
        "from tensorflow import keras\n",
        "import numpy as np\n",
        "import io\n",
        "\n",
        "cols = [\"Class\",\"Alcohol\",\n",
        " \t \"Malic acid\",\n",
        " \t \"Ash\",\n",
        "\t \"Alcalinity of ash\",  \n",
        " \t \"Magnesium\",\n",
        "\t\"Total phenols\",\n",
        " \t\"Flavanoids\",\n",
        " \t\"Nonflavanoid phenols\",\n",
        " \t\"Proanthocyanins\",\n",
        "\t\"Color intensity\",\n",
        " \t\"Hue\",\n",
        " \t\"OD280/OD315 of diluted wines\",\n",
        " \t\"Proline\" ]\n",
        "\n",
        "url = \"https://archive.ics.uci.edu/ml/machine-learning-databases/wine/wine.data\"\n",
        "wine = pd.read_csv(url, names=cols, sep=\",\", index_col = False)"
      ],
      "id": "_jCkQpLC8SiV",
      "execution_count": null,
      "outputs": []
    },
    {
      "cell_type": "code",
      "metadata": {
        "id": "e9b1ab16"
      },
      "source": [
        "X = wine.drop('Class', axis=1)\n",
        "y = wine['Class']"
      ],
      "id": "e9b1ab16",
      "execution_count": null,
      "outputs": []
    },
    {
      "cell_type": "code",
      "metadata": {
        "id": "bebc4874"
      },
      "source": [
        "#split data into train and test sets\n",
        "from sklearn.model_selection import train_test_split\n",
        "X_train, X_test, y_train, y_test = train_test_split(X,y, test_size=0.5, random_state=42)"
      ],
      "id": "bebc4874",
      "execution_count": null,
      "outputs": []
    },
    {
      "cell_type": "code",
      "metadata": {
        "id": "11a446cb"
      },
      "source": [
        "from sklearn.preprocessing import StandardScaler\n",
        "scaler = StandardScaler().fit(X_train)\n",
        "train_data = scaler.transform(X_train)\n",
        "test_data = scaler.transform(X_test)"
      ],
      "id": "11a446cb",
      "execution_count": null,
      "outputs": []
    },
    {
      "cell_type": "code",
      "metadata": {
        "id": "dc2434fa",
        "colab": {
          "base_uri": "https://localhost:8080/",
          "height": 128
        },
        "outputId": "ed7f66ef-15e1-4079-98d7-fdc392c404da"
      },
      "source": [
        "from tensorflow import keras\n",
        "import tensorflow as tf\n",
        "\n",
        "model = keras.Sequential([\n",
        "    keras.layers.Flatten(input_shape=[13]),\n",
        "    keras.layers.Dense(80, activation='relu'),\n",
        "    keras.layers.Dense(80, activation='relu')\n",
        "    keras.layers.Dense(4, activation='softmax')])"
      ],
      "id": "dc2434fa",
      "execution_count": 81,
      "outputs": [
        {
          "output_type": "error",
          "ename": "SyntaxError",
          "evalue": "ignored",
          "traceback": [
            "\u001b[0;36m  File \u001b[0;32m\"<ipython-input-81-553d6c6ea8ab>\"\u001b[0;36m, line \u001b[0;32m8\u001b[0m\n\u001b[0;31m    keras.layers.Dense(4, activation='softmax')])\u001b[0m\n\u001b[0m        ^\u001b[0m\n\u001b[0;31mSyntaxError\u001b[0m\u001b[0;31m:\u001b[0m invalid syntax\n"
          ]
        }
      ]
    },
    {
      "cell_type": "code",
      "metadata": {
        "colab": {
          "base_uri": "https://localhost:8080/"
        },
        "id": "LsgegaQ8aIGd",
        "outputId": "087d9aef-3317-4c99-ecdf-fe9cacc3981a"
      },
      "source": [
        "model.summary()"
      ],
      "id": "LsgegaQ8aIGd",
      "execution_count": 82,
      "outputs": [
        {
          "output_type": "stream",
          "name": "stdout",
          "text": [
            "Model: \"sequential_3\"\n",
            "_________________________________________________________________\n",
            "Layer (type)                 Output Shape              Param #   \n",
            "=================================================================\n",
            "flatten_3 (Flatten)          (None, 13)                0         \n",
            "_________________________________________________________________\n",
            "dense_6 (Dense)              (None, 180)               2520      \n",
            "_________________________________________________________________\n",
            "dense_7 (Dense)              (None, 4)                 724       \n",
            "=================================================================\n",
            "Total params: 3,244\n",
            "Trainable params: 3,244\n",
            "Non-trainable params: 0\n",
            "_________________________________________________________________\n"
          ]
        }
      ]
    },
    {
      "cell_type": "code",
      "metadata": {
        "id": "f2302e4e"
      },
      "source": [
        "# establish loss, optimizer, and metric\n",
        "model.compile(optimizer='adam', \n",
        "              loss=\"sparse_categorical_crossentropy\", \n",
        "              metrics=['accuracy'])"
      ],
      "id": "f2302e4e",
      "execution_count": 83,
      "outputs": []
    },
    {
      "cell_type": "code",
      "metadata": {
        "id": "4c0dff4b"
      },
      "source": [
        "#fit data to model\n",
        "history = model.fit(X_train, y_train,epochs = 100, \n",
        "                    validation_data = (X_test, y_test), \n",
        "                    verbose = 0)\n",
        "\n",
        "result = np.argmax(model.predict(X_test), axis=-1)"
      ],
      "id": "4c0dff4b",
      "execution_count": 84,
      "outputs": []
    },
    {
      "cell_type": "code",
      "metadata": {
        "id": "3782f0cb",
        "colab": {
          "base_uri": "https://localhost:8080/"
        },
        "outputId": "61725cde-73d4-44a0-8ba0-4eba5f13da00"
      },
      "source": [
        "#print predictions of test data set\n",
        "count = 0\n",
        "while count != 5:\n",
        "  print(result[count])\n",
        "  count+=1"
      ],
      "id": "3782f0cb",
      "execution_count": 85,
      "outputs": [
        {
          "output_type": "stream",
          "name": "stdout",
          "text": [
            "1\n",
            "1\n",
            "3\n",
            "1\n",
            "2\n"
          ]
        }
      ]
    },
    {
      "cell_type": "code",
      "metadata": {
        "colab": {
          "base_uri": "https://localhost:8080/"
        },
        "id": "zU9MTKVLJGmy",
        "outputId": "a3916d39-988c-489b-8c9d-036e825b9e0d"
      },
      "source": [
        "#print actual test labels\n",
        "y_test.head()"
      ],
      "id": "zU9MTKVLJGmy",
      "execution_count": 86,
      "outputs": [
        {
          "output_type": "execute_result",
          "data": {
            "text/plain": [
              "19     1\n",
              "45     1\n",
              "140    3\n",
              "30     1\n",
              "67     2\n",
              "Name: Class, dtype: int64"
            ]
          },
          "metadata": {},
          "execution_count": 86
        }
      ]
    },
    {
      "cell_type": "code",
      "metadata": {
        "id": "a48b2e5e",
        "colab": {
          "base_uri": "https://localhost:8080/"
        },
        "outputId": "14f852b1-2134-449f-bd07-bc41b8da0c70"
      },
      "source": [
        "# measure training set accurcay\n",
        "train_loss, train_accuracy = model.evaluate(X_train, y_train, verbose=0)\n",
        "\n",
        "#measure test accuracy\n",
        "test_loss, test_accuracy = model.evaluate(X_test, y_test, verbose=0)\n",
        "\n",
        "test_accuracy"
      ],
      "id": "a48b2e5e",
      "execution_count": 87,
      "outputs": [
        {
          "output_type": "execute_result",
          "data": {
            "text/plain": [
              "0.8764045238494873"
            ]
          },
          "metadata": {},
          "execution_count": 87
        }
      ]
    },
    {
      "cell_type": "markdown",
      "metadata": {
        "id": "WqTdvzSZ_k0a"
      },
      "source": [
        "##### Import new data"
      ],
      "id": "WqTdvzSZ_k0a"
    },
    {
      "cell_type": "code",
      "metadata": {
        "id": "w6fecvoOCp8E",
        "colab": {
          "base_uri": "https://localhost:8080/",
          "height": 284
        },
        "outputId": "41d94ed4-2d36-4f20-b1d6-c6fd0e7ef292"
      },
      "source": [
        "cols = [\"Alcohol\",\n",
        " \t \"Malic acid\",\n",
        " \t \"Ash\",\n",
        "\t \"Alcalinity of ash\",  \n",
        " \t \"Magnesium\",\n",
        "\t\"Total phenols\",\n",
        " \t\"Flavanoids\",\n",
        " \t\"Nonflavanoid phenols\",\n",
        " \t\"Proanthocyanins\",\n",
        "\t\"Color intensity\",\n",
        " \t\"Hue\",\n",
        " \t\"OD280/OD315 of diluted wines\",\n",
        " \t\"Proline\" ]\n",
        "\n",
        "data_points=[[11.472199, 3.832194, 2.252292,\t10.141369,\t114.437132,\t2.291474,\t2.168882,\t2.535612,\t1.433013,\t6.931693,\t1.372292,\t2.137596,\t745.919512],\n",
        "             [11.225170,\t2.195361,\t2.187768,\t12.120979,\t105.546976,\t2.584467,\t2.007357,\t2.563136,\t1.862052,\t6.598349,\t1.235305,\t2.844304,\t1027.805785],\n",
        "             [12.194506,\t1.613973,\t2.541185,\t10.377138,\t111.963048,\t2.328966,\t2.323064,\t2.320609,\t1.094167,\t6.504298,\t2.558098,\t2.580155,\t692.632255],\n",
        "             [11.561439,\t2.433522,\t2.104557,\t17.298640,\t110.329197,\t2.236003,\t2.192473,\t2.333027,\t1.658635,\t6.525432,\t2.251870,\t3.127505,\t1197.802416],\n",
        "             [11.320787,\t2.628380,\t2.084256,\t18.267162,\t107.553521,\t2.036388,\t2.018325,\t2.960095,\t1.761005,\t6.307844,\t1.035132,\t3.311286,\t1501.183282],\n",
        "             [10.790013,\t2.029487,\t2.599519,\t14.088306,\t100.865407,\t2.787944,\t2.738666,\t2.357926,\t1.297112,\t6.047519,\t2.727670,\t2.951639,\t1228.604373],\n",
        "             [11.314186,\t2.920993,\t2.264396,\t11.313099,\t105.671757,\t2.529319,\t2.770853,\t2.475294,\t1.504773,\t6.779923,\t2.850080,\t3.515368,\t673.359541],\n",
        "             [10.658580,\t2.081044,\t2.973052,\t8.451978,\t107.905541,\t2.577381,\t2.758754,\t2.567834,\t1.215686,\t6.497477,\t1.291515,\t2.014400,\t1304.383205],\n",
        "             [13.448827,\t1.177713,\t2.283766,\t13.764241,\t107.261022,\t2.163040,\t2.816865,\t2.412587,\t1.305110,\t6.905043,\t1.880179,\t3.392654,\t717.437571],\n",
        "             [13.295328,\t3.755816,\t2.576186,\t15.831426,\t112.942811,\t2.279185,\t2.010722,\t2.823347,\t1.651938,\t6.912908,\t2.672684,\t2.019621,\t1366.067921]]\n",
        "\n",
        "\n",
        "df_new = pd.DataFrame(data_points, index=[1,2,3,4,5,6,7,8,9,10], columns=cols)\n",
        "df_new.index.rename(\"Attribute\\Wine sample\", inplace=True)\n",
        "df_new.head()"
      ],
      "id": "w6fecvoOCp8E",
      "execution_count": 88,
      "outputs": [
        {
          "output_type": "execute_result",
          "data": {
            "text/html": [
              "<div>\n",
              "<style scoped>\n",
              "    .dataframe tbody tr th:only-of-type {\n",
              "        vertical-align: middle;\n",
              "    }\n",
              "\n",
              "    .dataframe tbody tr th {\n",
              "        vertical-align: top;\n",
              "    }\n",
              "\n",
              "    .dataframe thead th {\n",
              "        text-align: right;\n",
              "    }\n",
              "</style>\n",
              "<table border=\"1\" class=\"dataframe\">\n",
              "  <thead>\n",
              "    <tr style=\"text-align: right;\">\n",
              "      <th></th>\n",
              "      <th>Alcohol</th>\n",
              "      <th>Malic acid</th>\n",
              "      <th>Ash</th>\n",
              "      <th>Alcalinity of ash</th>\n",
              "      <th>Magnesium</th>\n",
              "      <th>Total phenols</th>\n",
              "      <th>Flavanoids</th>\n",
              "      <th>Nonflavanoid phenols</th>\n",
              "      <th>Proanthocyanins</th>\n",
              "      <th>Color intensity</th>\n",
              "      <th>Hue</th>\n",
              "      <th>OD280/OD315 of diluted wines</th>\n",
              "      <th>Proline</th>\n",
              "    </tr>\n",
              "    <tr>\n",
              "      <th>Attribute\\Wine sample</th>\n",
              "      <th></th>\n",
              "      <th></th>\n",
              "      <th></th>\n",
              "      <th></th>\n",
              "      <th></th>\n",
              "      <th></th>\n",
              "      <th></th>\n",
              "      <th></th>\n",
              "      <th></th>\n",
              "      <th></th>\n",
              "      <th></th>\n",
              "      <th></th>\n",
              "      <th></th>\n",
              "    </tr>\n",
              "  </thead>\n",
              "  <tbody>\n",
              "    <tr>\n",
              "      <th>1</th>\n",
              "      <td>11.472199</td>\n",
              "      <td>3.832194</td>\n",
              "      <td>2.252292</td>\n",
              "      <td>10.141369</td>\n",
              "      <td>114.437132</td>\n",
              "      <td>2.291474</td>\n",
              "      <td>2.168882</td>\n",
              "      <td>2.535612</td>\n",
              "      <td>1.433013</td>\n",
              "      <td>6.931693</td>\n",
              "      <td>1.372292</td>\n",
              "      <td>2.137596</td>\n",
              "      <td>745.919512</td>\n",
              "    </tr>\n",
              "    <tr>\n",
              "      <th>2</th>\n",
              "      <td>11.225170</td>\n",
              "      <td>2.195361</td>\n",
              "      <td>2.187768</td>\n",
              "      <td>12.120979</td>\n",
              "      <td>105.546976</td>\n",
              "      <td>2.584467</td>\n",
              "      <td>2.007357</td>\n",
              "      <td>2.563136</td>\n",
              "      <td>1.862052</td>\n",
              "      <td>6.598349</td>\n",
              "      <td>1.235305</td>\n",
              "      <td>2.844304</td>\n",
              "      <td>1027.805785</td>\n",
              "    </tr>\n",
              "    <tr>\n",
              "      <th>3</th>\n",
              "      <td>12.194506</td>\n",
              "      <td>1.613973</td>\n",
              "      <td>2.541185</td>\n",
              "      <td>10.377138</td>\n",
              "      <td>111.963048</td>\n",
              "      <td>2.328966</td>\n",
              "      <td>2.323064</td>\n",
              "      <td>2.320609</td>\n",
              "      <td>1.094167</td>\n",
              "      <td>6.504298</td>\n",
              "      <td>2.558098</td>\n",
              "      <td>2.580155</td>\n",
              "      <td>692.632255</td>\n",
              "    </tr>\n",
              "    <tr>\n",
              "      <th>4</th>\n",
              "      <td>11.561439</td>\n",
              "      <td>2.433522</td>\n",
              "      <td>2.104557</td>\n",
              "      <td>17.298640</td>\n",
              "      <td>110.329197</td>\n",
              "      <td>2.236003</td>\n",
              "      <td>2.192473</td>\n",
              "      <td>2.333027</td>\n",
              "      <td>1.658635</td>\n",
              "      <td>6.525432</td>\n",
              "      <td>2.251870</td>\n",
              "      <td>3.127505</td>\n",
              "      <td>1197.802416</td>\n",
              "    </tr>\n",
              "    <tr>\n",
              "      <th>5</th>\n",
              "      <td>11.320787</td>\n",
              "      <td>2.628380</td>\n",
              "      <td>2.084256</td>\n",
              "      <td>18.267162</td>\n",
              "      <td>107.553521</td>\n",
              "      <td>2.036388</td>\n",
              "      <td>2.018325</td>\n",
              "      <td>2.960095</td>\n",
              "      <td>1.761005</td>\n",
              "      <td>6.307844</td>\n",
              "      <td>1.035132</td>\n",
              "      <td>3.311286</td>\n",
              "      <td>1501.183282</td>\n",
              "    </tr>\n",
              "  </tbody>\n",
              "</table>\n",
              "</div>"
            ],
            "text/plain": [
              "                         Alcohol  ...      Proline\n",
              "Attribute\\Wine sample             ...             \n",
              "1                      11.472199  ...   745.919512\n",
              "2                      11.225170  ...  1027.805785\n",
              "3                      12.194506  ...   692.632255\n",
              "4                      11.561439  ...  1197.802416\n",
              "5                      11.320787  ...  1501.183282\n",
              "\n",
              "[5 rows x 13 columns]"
            ]
          },
          "metadata": {},
          "execution_count": 88
        }
      ]
    },
    {
      "cell_type": "code",
      "metadata": {
        "id": "9c60cec6"
      },
      "source": [
        "#transform new data and predict\n",
        "scaler2 = StandardScaler()\n",
        "scaler2.fit(df_new)\n",
        "df_new = scaler2.transform(df_new)\n",
        "#class_result = model.predict(df_new)"
      ],
      "id": "9c60cec6",
      "execution_count": 89,
      "outputs": []
    },
    {
      "cell_type": "code",
      "metadata": {
        "id": "3e399bd2"
      },
      "source": [
        "#convert to integers\n",
        "sample = class_result.astype(int)\n",
        "\n",
        "#convert to a list\n",
        "sample = sample.tolist()"
      ],
      "id": "3e399bd2",
      "execution_count": 90,
      "outputs": []
    },
    {
      "cell_type": "code",
      "metadata": {
        "colab": {
          "base_uri": "https://localhost:8080/"
        },
        "id": "snhrOzx8FZNl",
        "outputId": "20f7b2d1-57cc-4206-ec7e-4cb74d9701f5"
      },
      "source": [
        "class_result = np.argmax(model.predict(df_new), axis=-1)\n",
        "class_result"
      ],
      "id": "snhrOzx8FZNl",
      "execution_count": 93,
      "outputs": [
        {
          "output_type": "execute_result",
          "data": {
            "text/plain": [
              "array([3, 1, 2, 2, 2, 2, 1, 2, 2, 3])"
            ]
          },
          "metadata": {},
          "execution_count": 93
        }
      ]
    },
    {
      "cell_type": "code",
      "metadata": {
        "id": "8355b6c6",
        "colab": {
          "base_uri": "https://localhost:8080/"
        },
        "outputId": "e7041060-e2b5-4b3c-b3dd-21d4268c357a"
      },
      "source": [
        "for i in range(10):\n",
        "    print (\"sample\",i+1,\": {\", class_result[i],\"}\")"
      ],
      "id": "8355b6c6",
      "execution_count": 94,
      "outputs": [
        {
          "output_type": "stream",
          "name": "stdout",
          "text": [
            "sample 1 : { 3 }\n",
            "sample 2 : { 1 }\n",
            "sample 3 : { 2 }\n",
            "sample 4 : { 2 }\n",
            "sample 5 : { 2 }\n",
            "sample 6 : { 2 }\n",
            "sample 7 : { 1 }\n",
            "sample 8 : { 2 }\n",
            "sample 9 : { 2 }\n",
            "sample 10 : { 3 }\n"
          ]
        }
      ]
    }
  ]
}